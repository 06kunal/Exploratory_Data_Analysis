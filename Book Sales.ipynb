{
 "cells": [
  {
   "cell_type": "markdown",
   "id": "5f41bf30-937b-4640-b336-388867768210",
   "metadata": {},
   "source": [
    "### Exploratory Data Analysis - Book Sales"
   ]
  },
  {
   "cell_type": "code",
   "execution_count": 17,
   "id": "0fb6c296-b24c-4276-908e-84d53d9d9570",
   "metadata": {},
   "outputs": [],
   "source": [
    "import pandas as pd\n",
    "import matplotlib.pyplot as plt\n",
    "import seaborn as sns"
   ]
  },
  {
   "cell_type": "code",
   "execution_count": 18,
   "id": "1a0528f0-adf5-4412-8f84-c3511f4acf39",
   "metadata": {},
   "outputs": [],
   "source": [
    "df = pd.read_csv(\"Books_Data_Clean.csv\")"
   ]
  },
  {
   "cell_type": "code",
   "execution_count": 19,
   "id": "38109dc0-5c59-4ee0-8b5c-f98ce6a57433",
   "metadata": {},
   "outputs": [
    {
     "data": {
      "text/html": [
       "<div>\n",
       "<style scoped>\n",
       "    .dataframe tbody tr th:only-of-type {\n",
       "        vertical-align: middle;\n",
       "    }\n",
       "\n",
       "    .dataframe tbody tr th {\n",
       "        vertical-align: top;\n",
       "    }\n",
       "\n",
       "    .dataframe thead th {\n",
       "        text-align: right;\n",
       "    }\n",
       "</style>\n",
       "<table border=\"1\" class=\"dataframe\">\n",
       "  <thead>\n",
       "    <tr style=\"text-align: right;\">\n",
       "      <th></th>\n",
       "      <th>index</th>\n",
       "      <th>Publishing Year</th>\n",
       "      <th>Book Name</th>\n",
       "      <th>Author</th>\n",
       "      <th>language_code</th>\n",
       "      <th>Author_Rating</th>\n",
       "      <th>Book_average_rating</th>\n",
       "      <th>Book_ratings_count</th>\n",
       "      <th>genre</th>\n",
       "      <th>gross sales</th>\n",
       "      <th>publisher revenue</th>\n",
       "      <th>sale price</th>\n",
       "      <th>sales rank</th>\n",
       "      <th>Publisher</th>\n",
       "      <th>units sold</th>\n",
       "    </tr>\n",
       "  </thead>\n",
       "  <tbody>\n",
       "    <tr>\n",
       "      <th>0</th>\n",
       "      <td>0</td>\n",
       "      <td>1975.0</td>\n",
       "      <td>Beowulf</td>\n",
       "      <td>Unknown, Seamus Heaney</td>\n",
       "      <td>en-US</td>\n",
       "      <td>Novice</td>\n",
       "      <td>3.42</td>\n",
       "      <td>155903</td>\n",
       "      <td>genre fiction</td>\n",
       "      <td>34160.0</td>\n",
       "      <td>20496.0</td>\n",
       "      <td>4.88</td>\n",
       "      <td>1</td>\n",
       "      <td>HarperCollins Publishers</td>\n",
       "      <td>7000</td>\n",
       "    </tr>\n",
       "    <tr>\n",
       "      <th>1</th>\n",
       "      <td>1</td>\n",
       "      <td>1987.0</td>\n",
       "      <td>Batman: Year One</td>\n",
       "      <td>Frank Miller, David Mazzucchelli, Richmond Lew...</td>\n",
       "      <td>eng</td>\n",
       "      <td>Intermediate</td>\n",
       "      <td>4.23</td>\n",
       "      <td>145267</td>\n",
       "      <td>genre fiction</td>\n",
       "      <td>12437.5</td>\n",
       "      <td>7462.5</td>\n",
       "      <td>1.99</td>\n",
       "      <td>2</td>\n",
       "      <td>HarperCollins Publishers</td>\n",
       "      <td>6250</td>\n",
       "    </tr>\n",
       "    <tr>\n",
       "      <th>2</th>\n",
       "      <td>2</td>\n",
       "      <td>2015.0</td>\n",
       "      <td>Go Set a Watchman</td>\n",
       "      <td>Harper Lee</td>\n",
       "      <td>eng</td>\n",
       "      <td>Novice</td>\n",
       "      <td>3.31</td>\n",
       "      <td>138669</td>\n",
       "      <td>genre fiction</td>\n",
       "      <td>47795.0</td>\n",
       "      <td>28677.0</td>\n",
       "      <td>8.69</td>\n",
       "      <td>3</td>\n",
       "      <td>Amazon Digital Services,  Inc.</td>\n",
       "      <td>5500</td>\n",
       "    </tr>\n",
       "    <tr>\n",
       "      <th>3</th>\n",
       "      <td>3</td>\n",
       "      <td>2008.0</td>\n",
       "      <td>When You Are Engulfed in Flames</td>\n",
       "      <td>David Sedaris</td>\n",
       "      <td>en-US</td>\n",
       "      <td>Intermediate</td>\n",
       "      <td>4.04</td>\n",
       "      <td>150898</td>\n",
       "      <td>fiction</td>\n",
       "      <td>41250.0</td>\n",
       "      <td>24750.0</td>\n",
       "      <td>7.50</td>\n",
       "      <td>3</td>\n",
       "      <td>Hachette Book Group</td>\n",
       "      <td>5500</td>\n",
       "    </tr>\n",
       "    <tr>\n",
       "      <th>4</th>\n",
       "      <td>4</td>\n",
       "      <td>2011.0</td>\n",
       "      <td>Daughter of Smoke &amp; Bone</td>\n",
       "      <td>Laini Taylor</td>\n",
       "      <td>eng</td>\n",
       "      <td>Intermediate</td>\n",
       "      <td>4.04</td>\n",
       "      <td>198283</td>\n",
       "      <td>genre fiction</td>\n",
       "      <td>37952.5</td>\n",
       "      <td>22771.5</td>\n",
       "      <td>7.99</td>\n",
       "      <td>4</td>\n",
       "      <td>Penguin Group (USA) LLC</td>\n",
       "      <td>4750</td>\n",
       "    </tr>\n",
       "  </tbody>\n",
       "</table>\n",
       "</div>"
      ],
      "text/plain": [
       "   index  Publishing Year                        Book Name  \\\n",
       "0      0           1975.0                          Beowulf   \n",
       "1      1           1987.0                 Batman: Year One   \n",
       "2      2           2015.0                Go Set a Watchman   \n",
       "3      3           2008.0  When You Are Engulfed in Flames   \n",
       "4      4           2011.0         Daughter of Smoke & Bone   \n",
       "\n",
       "                                              Author language_code  \\\n",
       "0                             Unknown, Seamus Heaney         en-US   \n",
       "1  Frank Miller, David Mazzucchelli, Richmond Lew...           eng   \n",
       "2                                         Harper Lee           eng   \n",
       "3                                      David Sedaris         en-US   \n",
       "4                                       Laini Taylor           eng   \n",
       "\n",
       "  Author_Rating  Book_average_rating  Book_ratings_count          genre  \\\n",
       "0        Novice                 3.42              155903  genre fiction   \n",
       "1  Intermediate                 4.23              145267  genre fiction   \n",
       "2        Novice                 3.31              138669  genre fiction   \n",
       "3  Intermediate                 4.04              150898        fiction   \n",
       "4  Intermediate                 4.04              198283  genre fiction   \n",
       "\n",
       "   gross sales  publisher revenue  sale price  sales rank  \\\n",
       "0      34160.0            20496.0        4.88           1   \n",
       "1      12437.5             7462.5        1.99           2   \n",
       "2      47795.0            28677.0        8.69           3   \n",
       "3      41250.0            24750.0        7.50           3   \n",
       "4      37952.5            22771.5        7.99           4   \n",
       "\n",
       "                       Publisher   units sold  \n",
       "0        HarperCollins Publishers        7000  \n",
       "1        HarperCollins Publishers        6250  \n",
       "2  Amazon Digital Services,  Inc.        5500  \n",
       "3             Hachette Book Group        5500  \n",
       "4         Penguin Group (USA) LLC        4750  "
      ]
     },
     "execution_count": 19,
     "metadata": {},
     "output_type": "execute_result"
    }
   ],
   "source": [
    "df.head()"
   ]
  },
  {
   "cell_type": "code",
   "execution_count": 20,
   "id": "03321e75-bb6b-4b63-9833-aeebbe1012e1",
   "metadata": {},
   "outputs": [
    {
     "data": {
      "text/html": [
       "<div>\n",
       "<style scoped>\n",
       "    .dataframe tbody tr th:only-of-type {\n",
       "        vertical-align: middle;\n",
       "    }\n",
       "\n",
       "    .dataframe tbody tr th {\n",
       "        vertical-align: top;\n",
       "    }\n",
       "\n",
       "    .dataframe thead th {\n",
       "        text-align: right;\n",
       "    }\n",
       "</style>\n",
       "<table border=\"1\" class=\"dataframe\">\n",
       "  <thead>\n",
       "    <tr style=\"text-align: right;\">\n",
       "      <th></th>\n",
       "      <th>index</th>\n",
       "      <th>Publishing Year</th>\n",
       "      <th>Book_average_rating</th>\n",
       "      <th>Book_ratings_count</th>\n",
       "      <th>gross sales</th>\n",
       "      <th>publisher revenue</th>\n",
       "      <th>sale price</th>\n",
       "      <th>sales rank</th>\n",
       "      <th>units sold</th>\n",
       "    </tr>\n",
       "  </thead>\n",
       "  <tbody>\n",
       "    <tr>\n",
       "      <th>count</th>\n",
       "      <td>1070.000000</td>\n",
       "      <td>1069.000000</td>\n",
       "      <td>1070.000000</td>\n",
       "      <td>1070.000000</td>\n",
       "      <td>1070.000000</td>\n",
       "      <td>1070.000000</td>\n",
       "      <td>1070.000000</td>\n",
       "      <td>1070.000000</td>\n",
       "      <td>1070.000000</td>\n",
       "    </tr>\n",
       "    <tr>\n",
       "      <th>mean</th>\n",
       "      <td>534.500000</td>\n",
       "      <td>1971.377923</td>\n",
       "      <td>4.007000</td>\n",
       "      <td>94909.913084</td>\n",
       "      <td>1856.622944</td>\n",
       "      <td>843.281030</td>\n",
       "      <td>4.869561</td>\n",
       "      <td>611.652336</td>\n",
       "      <td>9676.980374</td>\n",
       "    </tr>\n",
       "    <tr>\n",
       "      <th>std</th>\n",
       "      <td>309.026698</td>\n",
       "      <td>185.080257</td>\n",
       "      <td>0.247244</td>\n",
       "      <td>31513.242518</td>\n",
       "      <td>3936.924240</td>\n",
       "      <td>2257.596743</td>\n",
       "      <td>3.559919</td>\n",
       "      <td>369.849830</td>\n",
       "      <td>15370.571306</td>\n",
       "    </tr>\n",
       "    <tr>\n",
       "      <th>min</th>\n",
       "      <td>0.000000</td>\n",
       "      <td>-560.000000</td>\n",
       "      <td>2.970000</td>\n",
       "      <td>27308.000000</td>\n",
       "      <td>104.940000</td>\n",
       "      <td>0.000000</td>\n",
       "      <td>0.990000</td>\n",
       "      <td>1.000000</td>\n",
       "      <td>106.000000</td>\n",
       "    </tr>\n",
       "    <tr>\n",
       "      <th>25%</th>\n",
       "      <td>267.250000</td>\n",
       "      <td>1985.000000</td>\n",
       "      <td>3.850000</td>\n",
       "      <td>70398.000000</td>\n",
       "      <td>372.465000</td>\n",
       "      <td>0.000000</td>\n",
       "      <td>1.990000</td>\n",
       "      <td>287.500000</td>\n",
       "      <td>551.250000</td>\n",
       "    </tr>\n",
       "    <tr>\n",
       "      <th>50%</th>\n",
       "      <td>534.500000</td>\n",
       "      <td>2003.000000</td>\n",
       "      <td>4.015000</td>\n",
       "      <td>89309.000000</td>\n",
       "      <td>809.745000</td>\n",
       "      <td>273.078000</td>\n",
       "      <td>3.990000</td>\n",
       "      <td>595.500000</td>\n",
       "      <td>3924.000000</td>\n",
       "    </tr>\n",
       "    <tr>\n",
       "      <th>75%</th>\n",
       "      <td>801.750000</td>\n",
       "      <td>2010.000000</td>\n",
       "      <td>4.170000</td>\n",
       "      <td>113906.500000</td>\n",
       "      <td>1487.957500</td>\n",
       "      <td>721.180500</td>\n",
       "      <td>6.990000</td>\n",
       "      <td>932.500000</td>\n",
       "      <td>5312.250000</td>\n",
       "    </tr>\n",
       "    <tr>\n",
       "      <th>max</th>\n",
       "      <td>1069.000000</td>\n",
       "      <td>2016.000000</td>\n",
       "      <td>4.770000</td>\n",
       "      <td>206792.000000</td>\n",
       "      <td>47795.000000</td>\n",
       "      <td>28677.000000</td>\n",
       "      <td>33.860000</td>\n",
       "      <td>1273.000000</td>\n",
       "      <td>61560.000000</td>\n",
       "    </tr>\n",
       "  </tbody>\n",
       "</table>\n",
       "</div>"
      ],
      "text/plain": [
       "             index  Publishing Year  Book_average_rating  Book_ratings_count  \\\n",
       "count  1070.000000      1069.000000          1070.000000         1070.000000   \n",
       "mean    534.500000      1971.377923             4.007000        94909.913084   \n",
       "std     309.026698       185.080257             0.247244        31513.242518   \n",
       "min       0.000000      -560.000000             2.970000        27308.000000   \n",
       "25%     267.250000      1985.000000             3.850000        70398.000000   \n",
       "50%     534.500000      2003.000000             4.015000        89309.000000   \n",
       "75%     801.750000      2010.000000             4.170000       113906.500000   \n",
       "max    1069.000000      2016.000000             4.770000       206792.000000   \n",
       "\n",
       "        gross sales  publisher revenue   sale price   sales rank    units sold  \n",
       "count   1070.000000        1070.000000  1070.000000  1070.000000   1070.000000  \n",
       "mean    1856.622944         843.281030     4.869561   611.652336   9676.980374  \n",
       "std     3936.924240        2257.596743     3.559919   369.849830  15370.571306  \n",
       "min      104.940000           0.000000     0.990000     1.000000    106.000000  \n",
       "25%      372.465000           0.000000     1.990000   287.500000    551.250000  \n",
       "50%      809.745000         273.078000     3.990000   595.500000   3924.000000  \n",
       "75%     1487.957500         721.180500     6.990000   932.500000   5312.250000  \n",
       "max    47795.000000       28677.000000    33.860000  1273.000000  61560.000000  "
      ]
     },
     "execution_count": 20,
     "metadata": {},
     "output_type": "execute_result"
    }
   ],
   "source": [
    "df.describe()"
   ]
  },
  {
   "cell_type": "code",
   "execution_count": 21,
   "id": "574ba4b6-549f-44ff-964e-fe9ba5a63b06",
   "metadata": {},
   "outputs": [],
   "source": [
    "#fixing the negative number in the publishing year.\n",
    "df = df[df[\"Publishing Year\"] > 1900]"
   ]
  },
  {
   "cell_type": "code",
   "execution_count": 22,
   "id": "e25c8ec3-f022-40bf-b7c7-d505aadaeb55",
   "metadata": {},
   "outputs": [
    {
     "data": {
      "text/html": [
       "<div>\n",
       "<style scoped>\n",
       "    .dataframe tbody tr th:only-of-type {\n",
       "        vertical-align: middle;\n",
       "    }\n",
       "\n",
       "    .dataframe tbody tr th {\n",
       "        vertical-align: top;\n",
       "    }\n",
       "\n",
       "    .dataframe thead th {\n",
       "        text-align: right;\n",
       "    }\n",
       "</style>\n",
       "<table border=\"1\" class=\"dataframe\">\n",
       "  <thead>\n",
       "    <tr style=\"text-align: right;\">\n",
       "      <th></th>\n",
       "      <th>index</th>\n",
       "      <th>Publishing Year</th>\n",
       "      <th>Book_average_rating</th>\n",
       "      <th>Book_ratings_count</th>\n",
       "      <th>gross sales</th>\n",
       "      <th>publisher revenue</th>\n",
       "      <th>sale price</th>\n",
       "      <th>sales rank</th>\n",
       "      <th>units sold</th>\n",
       "    </tr>\n",
       "  </thead>\n",
       "  <tbody>\n",
       "    <tr>\n",
       "      <th>count</th>\n",
       "      <td>1009.000000</td>\n",
       "      <td>1009.000000</td>\n",
       "      <td>1009.000000</td>\n",
       "      <td>1009.000000</td>\n",
       "      <td>1009.000000</td>\n",
       "      <td>1009.000000</td>\n",
       "      <td>1009.000000</td>\n",
       "      <td>1009.000000</td>\n",
       "      <td>1009.000000</td>\n",
       "    </tr>\n",
       "    <tr>\n",
       "      <th>mean</th>\n",
       "      <td>535.926660</td>\n",
       "      <td>1994.730426</td>\n",
       "      <td>4.012230</td>\n",
       "      <td>94817.793855</td>\n",
       "      <td>1832.644985</td>\n",
       "      <td>841.360638</td>\n",
       "      <td>4.844311</td>\n",
       "      <td>613.314172</td>\n",
       "      <td>9744.482656</td>\n",
       "    </tr>\n",
       "    <tr>\n",
       "      <th>std</th>\n",
       "      <td>308.769358</td>\n",
       "      <td>23.204719</td>\n",
       "      <td>0.246492</td>\n",
       "      <td>31473.890412</td>\n",
       "      <td>3947.885096</td>\n",
       "      <td>2279.579848</td>\n",
       "      <td>3.561712</td>\n",
       "      <td>369.628663</td>\n",
       "      <td>15350.021050</td>\n",
       "    </tr>\n",
       "    <tr>\n",
       "      <th>min</th>\n",
       "      <td>0.000000</td>\n",
       "      <td>1901.000000</td>\n",
       "      <td>2.970000</td>\n",
       "      <td>27308.000000</td>\n",
       "      <td>104.940000</td>\n",
       "      <td>0.000000</td>\n",
       "      <td>0.990000</td>\n",
       "      <td>1.000000</td>\n",
       "      <td>106.000000</td>\n",
       "    </tr>\n",
       "    <tr>\n",
       "      <th>25%</th>\n",
       "      <td>271.000000</td>\n",
       "      <td>1989.000000</td>\n",
       "      <td>3.860000</td>\n",
       "      <td>70701.000000</td>\n",
       "      <td>366.300000</td>\n",
       "      <td>0.000000</td>\n",
       "      <td>1.990000</td>\n",
       "      <td>291.000000</td>\n",
       "      <td>570.000000</td>\n",
       "    </tr>\n",
       "    <tr>\n",
       "      <th>50%</th>\n",
       "      <td>535.000000</td>\n",
       "      <td>2003.000000</td>\n",
       "      <td>4.030000</td>\n",
       "      <td>89204.000000</td>\n",
       "      <td>792.000000</td>\n",
       "      <td>273.240000</td>\n",
       "      <td>3.990000</td>\n",
       "      <td>596.000000</td>\n",
       "      <td>3942.000000</td>\n",
       "    </tr>\n",
       "    <tr>\n",
       "      <th>75%</th>\n",
       "      <td>802.000000</td>\n",
       "      <td>2010.000000</td>\n",
       "      <td>4.180000</td>\n",
       "      <td>113400.000000</td>\n",
       "      <td>1470.260000</td>\n",
       "      <td>714.756000</td>\n",
       "      <td>6.990000</td>\n",
       "      <td>933.000000</td>\n",
       "      <td>5427.000000</td>\n",
       "    </tr>\n",
       "    <tr>\n",
       "      <th>max</th>\n",
       "      <td>1069.000000</td>\n",
       "      <td>2016.000000</td>\n",
       "      <td>4.770000</td>\n",
       "      <td>206792.000000</td>\n",
       "      <td>47795.000000</td>\n",
       "      <td>28677.000000</td>\n",
       "      <td>33.860000</td>\n",
       "      <td>1273.000000</td>\n",
       "      <td>61560.000000</td>\n",
       "    </tr>\n",
       "  </tbody>\n",
       "</table>\n",
       "</div>"
      ],
      "text/plain": [
       "             index  Publishing Year  Book_average_rating  Book_ratings_count  \\\n",
       "count  1009.000000      1009.000000          1009.000000         1009.000000   \n",
       "mean    535.926660      1994.730426             4.012230        94817.793855   \n",
       "std     308.769358        23.204719             0.246492        31473.890412   \n",
       "min       0.000000      1901.000000             2.970000        27308.000000   \n",
       "25%     271.000000      1989.000000             3.860000        70701.000000   \n",
       "50%     535.000000      2003.000000             4.030000        89204.000000   \n",
       "75%     802.000000      2010.000000             4.180000       113400.000000   \n",
       "max    1069.000000      2016.000000             4.770000       206792.000000   \n",
       "\n",
       "        gross sales  publisher revenue   sale price   sales rank    units sold  \n",
       "count   1009.000000        1009.000000  1009.000000  1009.000000   1009.000000  \n",
       "mean    1832.644985         841.360638     4.844311   613.314172   9744.482656  \n",
       "std     3947.885096        2279.579848     3.561712   369.628663  15350.021050  \n",
       "min      104.940000           0.000000     0.990000     1.000000    106.000000  \n",
       "25%      366.300000           0.000000     1.990000   291.000000    570.000000  \n",
       "50%      792.000000         273.240000     3.990000   596.000000   3942.000000  \n",
       "75%     1470.260000         714.756000     6.990000   933.000000   5427.000000  \n",
       "max    47795.000000       28677.000000    33.860000  1273.000000  61560.000000  "
      ]
     },
     "execution_count": 22,
     "metadata": {},
     "output_type": "execute_result"
    }
   ],
   "source": [
    "df.describe()"
   ]
  },
  {
   "cell_type": "code",
   "execution_count": 23,
   "id": "727f3974-64bc-43c0-a11d-5d6a2d678329",
   "metadata": {},
   "outputs": [
    {
     "data": {
      "text/plain": [
       "index                   0\n",
       "Publishing Year         0\n",
       "Book Name              21\n",
       "Author                  0\n",
       "language_code          49\n",
       "Author_Rating           0\n",
       "Book_average_rating     0\n",
       "Book_ratings_count      0\n",
       "genre                   0\n",
       "gross sales             0\n",
       "publisher revenue       0\n",
       "sale price              0\n",
       "sales rank              0\n",
       "Publisher               0\n",
       "units sold              0\n",
       "dtype: int64"
      ]
     },
     "execution_count": 23,
     "metadata": {},
     "output_type": "execute_result"
    }
   ],
   "source": [
    "#Now let's check for the na values.\n",
    "df.isna().sum()"
   ]
  },
  {
   "cell_type": "markdown",
   "id": "5e45b644-9eb8-457c-83c7-3773399ec45b",
   "metadata": {},
   "source": [
    "So language code and Book name have na values, and we can not drop na values from language code because it may contain some important stuff. But we can surely delete the book's name with na values."
   ]
  },
  {
   "cell_type": "code",
   "execution_count": 24,
   "id": "a34b3166-c56a-4500-8341-4645a556b874",
   "metadata": {},
   "outputs": [],
   "source": [
    "df.dropna(subset = \"Book Name\", inplace  = True)"
   ]
  },
  {
   "cell_type": "code",
   "execution_count": 25,
   "id": "b500c034-b59b-490a-8587-03a81e58a02d",
   "metadata": {},
   "outputs": [
    {
     "data": {
      "text/plain": [
       "index                   0\n",
       "Publishing Year         0\n",
       "Book Name               0\n",
       "Author                  0\n",
       "language_code          47\n",
       "Author_Rating           0\n",
       "Book_average_rating     0\n",
       "Book_ratings_count      0\n",
       "genre                   0\n",
       "gross sales             0\n",
       "publisher revenue       0\n",
       "sale price              0\n",
       "sales rank              0\n",
       "Publisher               0\n",
       "units sold              0\n",
       "dtype: int64"
      ]
     },
     "execution_count": 25,
     "metadata": {},
     "output_type": "execute_result"
    }
   ],
   "source": [
    "df.isna().sum()"
   ]
  },
  {
   "cell_type": "code",
   "execution_count": 27,
   "id": "e38c6ede-63a3-44eb-8570-990fb885ca3b",
   "metadata": {},
   "outputs": [
    {
     "data": {
      "text/plain": [
       "0       False\n",
       "1       False\n",
       "2       False\n",
       "3       False\n",
       "4       False\n",
       "        ...  \n",
       "1065    False\n",
       "1066    False\n",
       "1067    False\n",
       "1068    False\n",
       "1069    False\n",
       "Length: 988, dtype: bool"
      ]
     },
     "execution_count": 27,
     "metadata": {},
     "output_type": "execute_result"
    }
   ],
   "source": [
    "#Now let's check the duplicated values.\n",
    "df.duplicated()"
   ]
  },
  {
   "cell_type": "code",
   "execution_count": 30,
   "id": "0da542a1-7e58-44ed-9f9d-34f6e36aeaf4",
   "metadata": {},
   "outputs": [
    {
     "data": {
      "text/plain": [
       "0"
      ]
     },
     "execution_count": 30,
     "metadata": {},
     "output_type": "execute_result"
    }
   ],
   "source": [
    "df.duplicated().sum()\n",
    "#We have zero duplicate entries."
   ]
  },
  {
   "cell_type": "code",
   "execution_count": 32,
   "id": "51640a77-1f38-4ed9-ac26-f614a5a011d9",
   "metadata": {},
   "outputs": [
    {
     "data": {
      "text/plain": [
       "index                  988\n",
       "Publishing Year        101\n",
       "Book Name              987\n",
       "Author                 669\n",
       "language_code            8\n",
       "Author_Rating            4\n",
       "Book_average_rating    133\n",
       "Book_ratings_count     983\n",
       "genre                    4\n",
       "gross sales            774\n",
       "publisher revenue      570\n",
       "sale price             143\n",
       "sales rank             818\n",
       "Publisher                9\n",
       "units sold             470\n",
       "dtype: int64"
      ]
     },
     "execution_count": 32,
     "metadata": {},
     "output_type": "execute_result"
    }
   ],
   "source": [
    "#Now let's check the unique values.\n",
    "#nunique is the function as in no. of unique values.\n",
    "df.nunique()"
   ]
  },
  {
   "cell_type": "code",
   "execution_count": 35,
   "id": "7c7b21a1-dae3-4e01-a4fb-cfdfdf639432",
   "metadata": {},
   "outputs": [
    {
     "data": {
      "image/png": "[encoded data removed]",
      "text/plain": [
       "<Figure size 640x480 with 1 Axes>"
      ]
     },
     "metadata": {},
     "output_type": "display_data"
    }
   ],
   "source": [
    "#Now let's create a Histogram so we can see the distribution of it.\n",
    "plt.hist(df[\"Publishing Year\"])\n",
    "plt.xlabel(\"Publishing Year\")\n",
    "plt.ylabel(\"Frequency\")\n",
    "plt.title(\"Distribution of Publishing Year\")\n",
    "plt.show()\n"
   ]
  },
  {
   "cell_type": "markdown",
   "id": "2d9905f9-4120-4675-88be-4e77d89ca9be",
   "metadata": {},
   "source": [
    "So from this histogram we can say that in our dataset, we mostly have new books that are published in the year 2020.\n"
   ]
  },
  {
   "cell_type": "code",
   "execution_count": 36,
   "id": "e17b6021-7a87-423f-b50b-501b0967f735",
   "metadata": {},
   "outputs": [
    {
     "data": {
      "text/plain": [
       "genre\n",
       "genre fiction    759\n",
       "nonfiction       160\n",
       "fiction           54\n",
       "children          15\n",
       "Name: count, dtype: int64"
      ]
     },
     "execution_count": 36,
     "metadata": {},
     "output_type": "execute_result"
    }
   ],
   "source": [
    "#Now let's create a bar chart of number of books in each genre.\n",
    "df[\"genre\"].value_counts()"
   ]
  },
  {
   "cell_type": "code",
   "execution_count": 38,
   "id": "531e594c-e928-4c78-8269-8546542c441c",
   "metadata": {},
   "outputs": [
    {
     "data": {
      "image/png": "[encoded data removed]",
      "text/plain": [
       "<Figure size 640x480 with 1 Axes>"
      ]
     },
     "metadata": {},
     "output_type": "display_data"
    }
   ],
   "source": [
    "df[\"genre\"].value_counts().plot(kind = \"bar\")\n",
    "plt.xlabel(\"Genre\")\n",
    "plt.ylabel(\"Number of Books\")\n",
    "plt.title(\"Number of Books in Each Genre\")\n",
    "plt.show()"
   ]
  },
  {
   "cell_type": "code",
   "execution_count": null,
   "id": "6c148041-783c-45d3-8538-17f1e74336c4",
   "metadata": {},
   "outputs": [],
   "source": []
  }
 ],
 "metadata": {
  "kernelspec": {
   "display_name": "Python 3 (ipykernel)",
   "language": "python",
   "name": "python3"
  },
  "language_info": {
   "codemirror_mode": {
    "name": "ipython",
    "version": 3
   },
   "file_extension": ".py",
   "mimetype": "text/x-python",
   "name": "python",
   "nbconvert_exporter": "python",
   "pygments_lexer": "ipython3",
   "version": "3.11.7"
  }
 },
 "nbformat": 4,
 "nbformat_minor": 5
}
