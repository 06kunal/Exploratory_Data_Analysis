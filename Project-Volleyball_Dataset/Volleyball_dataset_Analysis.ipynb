{
 "cells": [
  {
   "cell_type": "code",
   "execution_count": 1,
   "id": "a1a3eca0-7805-433a-a474-fd6ce57da4ce",
   "metadata": {},
   "outputs": [],
   "source": [
    "import pandas as pd\n",
    "import matplotlib.pyplot as plt\n",
    "import seaborn as sns"
   ]
  },
  {
   "cell_type": "code",
   "execution_count": 3,
   "id": "f9efecb2-7be7-4310-8cea-cea9c80fd720",
   "metadata": {},
   "outputs": [],
   "source": [
    "df = pd.read_csv(\"VNL2023.csv\")"
   ]
  },
  {
   "cell_type": "code",
   "execution_count": 5,
   "id": "93119140-1bda-46c2-b86e-7474bbc1e857",
   "metadata": {},
   "outputs": [
    {
     "data": {
      "text/html": [
       "<div>\n",
       "<style scoped>\n",
       "    .dataframe tbody tr th:only-of-type {\n",
       "        vertical-align: middle;\n",
       "    }\n",
       "\n",
       "    .dataframe tbody tr th {\n",
       "        vertical-align: top;\n",
       "    }\n",
       "\n",
       "    .dataframe thead th {\n",
       "        text-align: right;\n",
       "    }\n",
       "</style>\n",
       "<table border=\"1\" class=\"dataframe\">\n",
       "  <thead>\n",
       "    <tr style=\"text-align: right;\">\n",
       "      <th></th>\n",
       "      <th>Player</th>\n",
       "      <th>Country</th>\n",
       "      <th>Age</th>\n",
       "      <th>Attack</th>\n",
       "      <th>Block</th>\n",
       "      <th>Serve</th>\n",
       "      <th>Set</th>\n",
       "      <th>Dig</th>\n",
       "      <th>Receive</th>\n",
       "      <th>Position</th>\n",
       "    </tr>\n",
       "  </thead>\n",
       "  <tbody>\n",
       "    <tr>\n",
       "      <th>0</th>\n",
       "      <td>Ichikawa Yuki</td>\n",
       "      <td>Japan</td>\n",
       "      <td>28</td>\n",
       "      <td>15.80</td>\n",
       "      <td>1.13</td>\n",
       "      <td>1.40</td>\n",
       "      <td>0.07</td>\n",
       "      <td>4.80</td>\n",
       "      <td>5.60</td>\n",
       "      <td>OH</td>\n",
       "    </tr>\n",
       "    <tr>\n",
       "      <th>1</th>\n",
       "      <td>Romano Yuri</td>\n",
       "      <td>Italy</td>\n",
       "      <td>26</td>\n",
       "      <td>12.33</td>\n",
       "      <td>1.07</td>\n",
       "      <td>1.47</td>\n",
       "      <td>0.00</td>\n",
       "      <td>3.87</td>\n",
       "      <td>0.00</td>\n",
       "      <td>OP</td>\n",
       "    </tr>\n",
       "    <tr>\n",
       "      <th>2</th>\n",
       "      <td>Abdel-Aziz Nimir</td>\n",
       "      <td>Nederland</td>\n",
       "      <td>31</td>\n",
       "      <td>15.33</td>\n",
       "      <td>0.67</td>\n",
       "      <td>2.08</td>\n",
       "      <td>0.00</td>\n",
       "      <td>3.17</td>\n",
       "      <td>0.25</td>\n",
       "      <td>OP</td>\n",
       "    </tr>\n",
       "    <tr>\n",
       "      <th>3</th>\n",
       "      <td>Herrera Jaime Jesus</td>\n",
       "      <td>Cuba</td>\n",
       "      <td>28</td>\n",
       "      <td>15.00</td>\n",
       "      <td>0.92</td>\n",
       "      <td>1.75</td>\n",
       "      <td>0.00</td>\n",
       "      <td>3.33</td>\n",
       "      <td>0.17</td>\n",
       "      <td>OP</td>\n",
       "    </tr>\n",
       "    <tr>\n",
       "      <th>4</th>\n",
       "      <td>Takahashi Ran</td>\n",
       "      <td>Japan</td>\n",
       "      <td>22</td>\n",
       "      <td>11.53</td>\n",
       "      <td>0.67</td>\n",
       "      <td>1.00</td>\n",
       "      <td>0.07</td>\n",
       "      <td>6.40</td>\n",
       "      <td>5.07</td>\n",
       "      <td>OH</td>\n",
       "    </tr>\n",
       "  </tbody>\n",
       "</table>\n",
       "</div>"
      ],
      "text/plain": [
       "                Player    Country  Age  Attack  Block  Serve   Set   Dig  \\\n",
       "0        Ichikawa Yuki      Japan   28   15.80   1.13   1.40  0.07  4.80   \n",
       "1          Romano Yuri      Italy   26   12.33   1.07   1.47  0.00  3.87   \n",
       "2     Abdel-Aziz Nimir  Nederland   31   15.33   0.67   2.08  0.00  3.17   \n",
       "3  Herrera Jaime Jesus       Cuba   28   15.00   0.92   1.75  0.00  3.33   \n",
       "4        Takahashi Ran      Japan   22   11.53   0.67   1.00  0.07  6.40   \n",
       "\n",
       "   Receive Position  \n",
       "0     5.60       OH  \n",
       "1     0.00       OP  \n",
       "2     0.25       OP  \n",
       "3     0.17       OP  \n",
       "4     5.07       OH  "
      ]
     },
     "execution_count": 5,
     "metadata": {},
     "output_type": "execute_result"
    }
   ],
   "source": [
    "df.head()"
   ]
  },
  {
   "cell_type": "code",
   "execution_count": 7,
   "id": "c7e0ff9a-7fbc-49d5-a0fe-373cda51d655",
   "metadata": {},
   "outputs": [
    {
     "data": {
      "text/plain": [
       "(131, 10)"
      ]
     },
     "execution_count": 7,
     "metadata": {},
     "output_type": "execute_result"
    }
   ],
   "source": [
    "df.shape"
   ]
  },
  {
   "cell_type": "markdown",
   "id": "632e9384-b245-4261-abbd-975db09f2478",
   "metadata": {},
   "source": [
    "We have 131 rows and 10 columns in this dataset."
   ]
  },
  {
   "cell_type": "code",
   "execution_count": 10,
   "id": "a04ccced-d624-4dfb-b5f2-544801e4508b",
   "metadata": {},
   "outputs": [
    {
     "data": {
      "text/html": [
       "<div>\n",
       "<style scoped>\n",
       "    .dataframe tbody tr th:only-of-type {\n",
       "        vertical-align: middle;\n",
       "    }\n",
       "\n",
       "    .dataframe tbody tr th {\n",
       "        vertical-align: top;\n",
       "    }\n",
       "\n",
       "    .dataframe thead th {\n",
       "        text-align: right;\n",
       "    }\n",
       "</style>\n",
       "<table border=\"1\" class=\"dataframe\">\n",
       "  <thead>\n",
       "    <tr style=\"text-align: right;\">\n",
       "      <th></th>\n",
       "      <th>Age</th>\n",
       "      <th>Attack</th>\n",
       "      <th>Block</th>\n",
       "      <th>Serve</th>\n",
       "      <th>Set</th>\n",
       "      <th>Dig</th>\n",
       "      <th>Receive</th>\n",
       "    </tr>\n",
       "  </thead>\n",
       "  <tbody>\n",
       "    <tr>\n",
       "      <th>count</th>\n",
       "      <td>131.000000</td>\n",
       "      <td>131.000000</td>\n",
       "      <td>131.000000</td>\n",
       "      <td>131.000000</td>\n",
       "      <td>131.000000</td>\n",
       "      <td>131.000000</td>\n",
       "      <td>131.000000</td>\n",
       "    </tr>\n",
       "    <tr>\n",
       "      <th>mean</th>\n",
       "      <td>27.809160</td>\n",
       "      <td>5.642672</td>\n",
       "      <td>0.845573</td>\n",
       "      <td>0.535802</td>\n",
       "      <td>2.192595</td>\n",
       "      <td>3.428397</td>\n",
       "      <td>1.684198</td>\n",
       "    </tr>\n",
       "    <tr>\n",
       "      <th>std</th>\n",
       "      <td>4.186268</td>\n",
       "      <td>4.256229</td>\n",
       "      <td>0.700896</td>\n",
       "      <td>0.454346</td>\n",
       "      <td>6.031587</td>\n",
       "      <td>2.077823</td>\n",
       "      <td>1.989939</td>\n",
       "    </tr>\n",
       "    <tr>\n",
       "      <th>min</th>\n",
       "      <td>19.000000</td>\n",
       "      <td>0.000000</td>\n",
       "      <td>0.000000</td>\n",
       "      <td>0.000000</td>\n",
       "      <td>0.000000</td>\n",
       "      <td>0.530000</td>\n",
       "      <td>0.000000</td>\n",
       "    </tr>\n",
       "    <tr>\n",
       "      <th>25%</th>\n",
       "      <td>25.000000</td>\n",
       "      <td>2.800000</td>\n",
       "      <td>0.370000</td>\n",
       "      <td>0.240000</td>\n",
       "      <td>0.000000</td>\n",
       "      <td>1.920000</td>\n",
       "      <td>0.000000</td>\n",
       "    </tr>\n",
       "    <tr>\n",
       "      <th>50%</th>\n",
       "      <td>27.000000</td>\n",
       "      <td>5.170000</td>\n",
       "      <td>0.690000</td>\n",
       "      <td>0.420000</td>\n",
       "      <td>0.000000</td>\n",
       "      <td>3.000000</td>\n",
       "      <td>0.330000</td>\n",
       "    </tr>\n",
       "    <tr>\n",
       "      <th>75%</th>\n",
       "      <td>30.000000</td>\n",
       "      <td>8.600000</td>\n",
       "      <td>1.140000</td>\n",
       "      <td>0.760000</td>\n",
       "      <td>0.000000</td>\n",
       "      <td>4.510000</td>\n",
       "      <td>3.385000</td>\n",
       "    </tr>\n",
       "    <tr>\n",
       "      <th>max</th>\n",
       "      <td>41.000000</td>\n",
       "      <td>15.800000</td>\n",
       "      <td>4.080000</td>\n",
       "      <td>2.080000</td>\n",
       "      <td>26.890000</td>\n",
       "      <td>11.440000</td>\n",
       "      <td>6.690000</td>\n",
       "    </tr>\n",
       "  </tbody>\n",
       "</table>\n",
       "</div>"
      ],
      "text/plain": [
       "              Age      Attack       Block       Serve         Set         Dig  \\\n",
       "count  131.000000  131.000000  131.000000  131.000000  131.000000  131.000000   \n",
       "mean    27.809160    5.642672    0.845573    0.535802    2.192595    3.428397   \n",
       "std      4.186268    4.256229    0.700896    0.454346    6.031587    2.077823   \n",
       "min     19.000000    0.000000    0.000000    0.000000    0.000000    0.530000   \n",
       "25%     25.000000    2.800000    0.370000    0.240000    0.000000    1.920000   \n",
       "50%     27.000000    5.170000    0.690000    0.420000    0.000000    3.000000   \n",
       "75%     30.000000    8.600000    1.140000    0.760000    0.000000    4.510000   \n",
       "max     41.000000   15.800000    4.080000    2.080000   26.890000   11.440000   \n",
       "\n",
       "          Receive  \n",
       "count  131.000000  \n",
       "mean     1.684198  \n",
       "std      1.989939  \n",
       "min      0.000000  \n",
       "25%      0.000000  \n",
       "50%      0.330000  \n",
       "75%      3.385000  \n",
       "max      6.690000  "
      ]
     },
     "execution_count": 10,
     "metadata": {},
     "output_type": "execute_result"
    }
   ],
   "source": [
    "df.describe()"
   ]
  },
  {
   "cell_type": "code",
   "execution_count": 12,
   "id": "66015561-51f6-4941-8547-50b22dcce416",
   "metadata": {},
   "outputs": [
    {
     "data": {
      "text/html": [
       "<div>\n",
       "<style scoped>\n",
       "    .dataframe tbody tr th:only-of-type {\n",
       "        vertical-align: middle;\n",
       "    }\n",
       "\n",
       "    .dataframe tbody tr th {\n",
       "        vertical-align: top;\n",
       "    }\n",
       "\n",
       "    .dataframe thead th {\n",
       "        text-align: right;\n",
       "    }\n",
       "</style>\n",
       "<table border=\"1\" class=\"dataframe\">\n",
       "  <thead>\n",
       "    <tr style=\"text-align: right;\">\n",
       "      <th></th>\n",
       "      <th>Player</th>\n",
       "      <th>Country</th>\n",
       "      <th>Age</th>\n",
       "      <th>Attack</th>\n",
       "      <th>Block</th>\n",
       "      <th>Serve</th>\n",
       "      <th>Set</th>\n",
       "      <th>Dig</th>\n",
       "      <th>Receive</th>\n",
       "      <th>Position</th>\n",
       "    </tr>\n",
       "  </thead>\n",
       "  <tbody>\n",
       "    <tr>\n",
       "      <th>0</th>\n",
       "      <td>False</td>\n",
       "      <td>False</td>\n",
       "      <td>False</td>\n",
       "      <td>False</td>\n",
       "      <td>False</td>\n",
       "      <td>False</td>\n",
       "      <td>False</td>\n",
       "      <td>False</td>\n",
       "      <td>False</td>\n",
       "      <td>False</td>\n",
       "    </tr>\n",
       "    <tr>\n",
       "      <th>1</th>\n",
       "      <td>False</td>\n",
       "      <td>False</td>\n",
       "      <td>False</td>\n",
       "      <td>False</td>\n",
       "      <td>False</td>\n",
       "      <td>False</td>\n",
       "      <td>False</td>\n",
       "      <td>False</td>\n",
       "      <td>False</td>\n",
       "      <td>False</td>\n",
       "    </tr>\n",
       "    <tr>\n",
       "      <th>2</th>\n",
       "      <td>False</td>\n",
       "      <td>False</td>\n",
       "      <td>False</td>\n",
       "      <td>False</td>\n",
       "      <td>False</td>\n",
       "      <td>False</td>\n",
       "      <td>False</td>\n",
       "      <td>False</td>\n",
       "      <td>False</td>\n",
       "      <td>False</td>\n",
       "    </tr>\n",
       "    <tr>\n",
       "      <th>3</th>\n",
       "      <td>False</td>\n",
       "      <td>False</td>\n",
       "      <td>False</td>\n",
       "      <td>False</td>\n",
       "      <td>False</td>\n",
       "      <td>False</td>\n",
       "      <td>False</td>\n",
       "      <td>False</td>\n",
       "      <td>False</td>\n",
       "      <td>False</td>\n",
       "    </tr>\n",
       "    <tr>\n",
       "      <th>4</th>\n",
       "      <td>False</td>\n",
       "      <td>False</td>\n",
       "      <td>False</td>\n",
       "      <td>False</td>\n",
       "      <td>False</td>\n",
       "      <td>False</td>\n",
       "      <td>False</td>\n",
       "      <td>False</td>\n",
       "      <td>False</td>\n",
       "      <td>False</td>\n",
       "    </tr>\n",
       "    <tr>\n",
       "      <th>...</th>\n",
       "      <td>...</td>\n",
       "      <td>...</td>\n",
       "      <td>...</td>\n",
       "      <td>...</td>\n",
       "      <td>...</td>\n",
       "      <td>...</td>\n",
       "      <td>...</td>\n",
       "      <td>...</td>\n",
       "      <td>...</td>\n",
       "      <td>...</td>\n",
       "    </tr>\n",
       "    <tr>\n",
       "      <th>126</th>\n",
       "      <td>False</td>\n",
       "      <td>False</td>\n",
       "      <td>False</td>\n",
       "      <td>False</td>\n",
       "      <td>False</td>\n",
       "      <td>False</td>\n",
       "      <td>False</td>\n",
       "      <td>False</td>\n",
       "      <td>False</td>\n",
       "      <td>False</td>\n",
       "    </tr>\n",
       "    <tr>\n",
       "      <th>127</th>\n",
       "      <td>False</td>\n",
       "      <td>False</td>\n",
       "      <td>False</td>\n",
       "      <td>False</td>\n",
       "      <td>False</td>\n",
       "      <td>False</td>\n",
       "      <td>False</td>\n",
       "      <td>False</td>\n",
       "      <td>False</td>\n",
       "      <td>False</td>\n",
       "    </tr>\n",
       "    <tr>\n",
       "      <th>128</th>\n",
       "      <td>False</td>\n",
       "      <td>False</td>\n",
       "      <td>False</td>\n",
       "      <td>False</td>\n",
       "      <td>False</td>\n",
       "      <td>False</td>\n",
       "      <td>False</td>\n",
       "      <td>False</td>\n",
       "      <td>False</td>\n",
       "      <td>False</td>\n",
       "    </tr>\n",
       "    <tr>\n",
       "      <th>129</th>\n",
       "      <td>False</td>\n",
       "      <td>False</td>\n",
       "      <td>False</td>\n",
       "      <td>False</td>\n",
       "      <td>False</td>\n",
       "      <td>False</td>\n",
       "      <td>False</td>\n",
       "      <td>False</td>\n",
       "      <td>False</td>\n",
       "      <td>False</td>\n",
       "    </tr>\n",
       "    <tr>\n",
       "      <th>130</th>\n",
       "      <td>False</td>\n",
       "      <td>False</td>\n",
       "      <td>False</td>\n",
       "      <td>False</td>\n",
       "      <td>False</td>\n",
       "      <td>False</td>\n",
       "      <td>False</td>\n",
       "      <td>False</td>\n",
       "      <td>False</td>\n",
       "      <td>False</td>\n",
       "    </tr>\n",
       "  </tbody>\n",
       "</table>\n",
       "<p>131 rows × 10 columns</p>\n",
       "</div>"
      ],
      "text/plain": [
       "     Player  Country    Age  Attack  Block  Serve    Set    Dig  Receive  \\\n",
       "0     False    False  False   False  False  False  False  False    False   \n",
       "1     False    False  False   False  False  False  False  False    False   \n",
       "2     False    False  False   False  False  False  False  False    False   \n",
       "3     False    False  False   False  False  False  False  False    False   \n",
       "4     False    False  False   False  False  False  False  False    False   \n",
       "..      ...      ...    ...     ...    ...    ...    ...    ...      ...   \n",
       "126   False    False  False   False  False  False  False  False    False   \n",
       "127   False    False  False   False  False  False  False  False    False   \n",
       "128   False    False  False   False  False  False  False  False    False   \n",
       "129   False    False  False   False  False  False  False  False    False   \n",
       "130   False    False  False   False  False  False  False  False    False   \n",
       "\n",
       "     Position  \n",
       "0       False  \n",
       "1       False  \n",
       "2       False  \n",
       "3       False  \n",
       "4       False  \n",
       "..        ...  \n",
       "126     False  \n",
       "127     False  \n",
       "128     False  \n",
       "129     False  \n",
       "130     False  \n",
       "\n",
       "[131 rows x 10 columns]"
      ]
     },
     "execution_count": 12,
     "metadata": {},
     "output_type": "execute_result"
    }
   ],
   "source": [
    "df.isna()"
   ]
  },
  {
   "cell_type": "code",
   "execution_count": 14,
   "id": "2bfb3b4f-8f59-44f2-9f99-b31b8971b395",
   "metadata": {},
   "outputs": [
    {
     "data": {
      "text/plain": [
       "Player      0\n",
       "Country     0\n",
       "Age         0\n",
       "Attack      0\n",
       "Block       0\n",
       "Serve       0\n",
       "Set         0\n",
       "Dig         0\n",
       "Receive     0\n",
       "Position    0\n",
       "dtype: int64"
      ]
     },
     "execution_count": 14,
     "metadata": {},
     "output_type": "execute_result"
    }
   ],
   "source": [
    "df.isna().sum()"
   ]
  },
  {
   "cell_type": "code",
   "execution_count": 18,
   "id": "2a172071-2950-41fa-8bdb-6653e0d363f0",
   "metadata": {},
   "outputs": [
    {
     "data": {
      "text/plain": [
       "0      False\n",
       "1      False\n",
       "2      False\n",
       "3      False\n",
       "4      False\n",
       "       ...  \n",
       "126    False\n",
       "127    False\n",
       "128    False\n",
       "129    False\n",
       "130    False\n",
       "Length: 131, dtype: bool"
      ]
     },
     "execution_count": 18,
     "metadata": {},
     "output_type": "execute_result"
    }
   ],
   "source": [
    "df.duplicated()"
   ]
  },
  {
   "cell_type": "code",
   "execution_count": 20,
   "id": "b0186480-b811-45e2-a89d-1cfdd41d087b",
   "metadata": {},
   "outputs": [
    {
     "data": {
      "text/plain": [
       "0"
      ]
     },
     "execution_count": 20,
     "metadata": {},
     "output_type": "execute_result"
    }
   ],
   "source": [
    "df.duplicated().sum()"
   ]
  },
  {
   "cell_type": "markdown",
   "id": "16fd5acc-0be0-4913-a84a-29bf7322b7e6",
   "metadata": {},
   "source": [
    "### Checking the Correlations."
   ]
  },
  {
   "cell_type": "markdown",
   "id": "7297c209-0d74-4193-bc08-08de615f771b",
   "metadata": {},
   "source": [
    "Let's check if any numeric column is correlated with another, which means they are related somehow. \n",
    "Correlation can take values between 1 and -1.\n",
    "1 = Strong Positive Relationship\n",
    "-1 = strong Negative Relationship."
   ]
  },
  {
   "cell_type": "code",
   "execution_count": 24,
   "id": "fdfc5d69-e65a-48d2-961b-885bc573a5cf",
   "metadata": {},
   "outputs": [
    {
     "name": "stdout",
     "output_type": "stream",
     "text": [
      "              Age    Attack     Block     Serve       Set       Dig   Receive\n",
      "Age      1.000000 -0.177849 -0.101040 -0.108367  0.177757  0.167141 -0.011067\n",
      "Attack  -0.177849  1.000000  0.338412  0.768859 -0.430805 -0.098999  0.169892\n",
      "Block   -0.101040  0.338412  1.000000  0.335954 -0.132019 -0.348347 -0.265206\n",
      "Serve   -0.108367  0.768859  0.335954  1.000000 -0.154815 -0.052501  0.039642\n",
      "Set      0.177757 -0.430805 -0.132019 -0.154815  1.000000  0.131659 -0.305869\n",
      "Dig      0.167141 -0.098999 -0.348347 -0.052501  0.131659  1.000000  0.624733\n",
      "Receive -0.011067  0.169892 -0.265206  0.039642 -0.305869  0.624733  1.000000\n"
     ]
    }
   ],
   "source": [
    "numeric_cols = df.select_dtypes(include = [\"int\", \"float\"]).columns\n",
    "corr_matrix = df[numeric_cols].corr()\n",
    "print(corr_matrix)\n"
   ]
  },
  {
   "cell_type": "markdown",
   "id": "3801f700-a440-4576-bb63-0d47f00f9573",
   "metadata": {},
   "source": [
    "Here, we can see that the Correlation between Age and Age is 1 or to be precise, we are getting diagonally 1. Serve and Attack have a strong correlation of 0.7. Similarly, Dig and Serve has 0.6.\n",
    "We can analyze it in a better way using a heatmap."
   ]
  },
  {
   "cell_type": "code",
   "execution_count": 42,
   "id": "a510f80f-7b26-43af-a9df-0b1e30ba071b",
   "metadata": {},
   "outputs": [
    {
     "data": {
      "image/png": "[encoded data removed]",
      "text/plain": [
       "<Figure size 640x480 with 2 Axes>"
      ]
     },
     "metadata": {},
     "output_type": "display_data"
    }
   ],
   "source": [
    "sns.heatmap(corr_matrix, annot = True, cmap = \"coolwarm\", linewidths = 5)\n",
    "plt.title(\"Correlation Matrix Heatmap\")\n",
    "plt.show()"
   ]
  },
  {
   "cell_type": "code",
   "execution_count": 48,
   "id": "82e21c26-ee08-4327-ba30-10f78545f670",
   "metadata": {},
   "outputs": [
    {
     "data": {
      "image/png": "[encoded data removed]",
      "text/plain": [
       "<Figure size 1500x1000 with 2 Axes>"
      ]
     },
     "metadata": {},
     "output_type": "display_data"
    }
   ],
   "source": [
    "plt.figure(figsize= (15, 10))\n",
    "sns.heatmap(corr_matrix, annot = True, cmap = \"coolwarm\", linewidths= 5)\n",
    "plt.title(\"Correlation Matirx Heatmap\")\n",
    "plt.show()"
   ]
  },
  {
   "cell_type": "code",
   "execution_count": null,
   "id": "ec1c07a2-77f4-4ea7-9fb1-9123509ccdfa",
   "metadata": {},
   "outputs": [],
   "source": []
  }
 ],
 "metadata": {
  "kernelspec": {
   "display_name": "Python [conda env:base] *",
   "language": "python",
   "name": "conda-base-py"
  },
  "language_info": {
   "codemirror_mode": {
    "name": "ipython",
    "version": 3
   },
   "file_extension": ".py",
   "mimetype": "text/x-python",
   "name": "python",
   "nbconvert_exporter": "python",
   "pygments_lexer": "ipython3",
   "version": "3.11.7"
  }
 },
 "nbformat": 4,
 "nbformat_minor": 5
}
